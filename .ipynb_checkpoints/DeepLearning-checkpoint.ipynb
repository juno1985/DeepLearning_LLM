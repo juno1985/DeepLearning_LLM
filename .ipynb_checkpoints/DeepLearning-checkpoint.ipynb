{
 "cells": [
  {
   "cell_type": "markdown",
   "id": "b1c18571-af6c-4350-862c-8eee0bbd7c1b",
   "metadata": {},
   "source": [
    "### Linear Units in Keras"
   ]
  },
  {
   "cell_type": "markdown",
   "id": "6daa60c0-146f-4cf1-89d6-7844282e4d6e",
   "metadata": {},
   "source": [
    "With the first argument, units, we define how many outputs we want. In this case we are just predicting 'calories', so we'll use units=1."
   ]
  },
  {
   "cell_type": "code",
   "execution_count": null,
   "id": "52eb2f57-01b2-46fb-9bd7-72d92d702841",
   "metadata": {},
   "outputs": [],
   "source": [
    "from tensorflow import keras\n",
    "from tensorflow.keras import layers\n",
    "\n",
    "# Create a network with 1 linear unit\n",
    "model = keras.Sequential([\n",
    "    layers.Dense(units=1, input_shape=[3])\n",
    "])"
   ]
  },
  {
   "cell_type": "markdown",
   "id": "989e2a6f-ca83-40f1-ad43-62a0435181ab",
   "metadata": {},
   "source": [
    "<img src='pic/linear_unit.png'>"
   ]
  },
  {
   "cell_type": "code",
   "execution_count": null,
   "id": "107c3de8-7b3a-479e-af5b-8e7d04407546",
   "metadata": {},
   "outputs": [],
   "source": [
    "w, b = model.weights\n",
    "print(\"Weights\\n{}\\n\\nBias\\n{}\".format(w, b))"
   ]
  },
  {
   "cell_type": "markdown",
   "id": "c5f5a439-cbff-4799-9ea5-c24b11b62529",
   "metadata": {},
   "source": [
    "Weights\n",
    "<tf.Variable 'dense/kernel:0' shape=(11, 1) dtype=float32, numpy=\n",
    "array([[ 0.19967222],\n",
    "       [-0.68170553],\n",
    "       [ 0.47476345],\n",
    "       [ 0.392785  ],\n",
    "       [ 0.14066797],\n",
    "       [ 0.5223351 ],\n",
    "       [ 0.25675356],\n",
    "       [-0.595524  ],\n",
    "       [ 0.6509276 ],\n",
    "       [-0.39765382],\n",
    "       [ 0.29334396]], dtype=float32)>\n",
    "\n",
    "Bias\n",
    "<tf.Variable 'dense/bias:0' shape=(1,) dtype=float32, numpy=array([0.], dtype=float32)>"
   ]
  },
  {
   "cell_type": "markdown",
   "id": "dd045dfd-6732-4856-b4b2-75f63754940a",
   "metadata": {},
   "source": [
    "### SGD - The Optimizer - Stochastic Gradient Descent"
   ]
  },
  {
   "cell_type": "markdown",
   "id": "a1de5dc6-e278-42fd-8057-79da2d83bce9",
   "metadata": {},
   "source": [
    "The optimizer is an algorithm that adjusts the weights to minimize the loss."
   ]
  },
  {
   "cell_type": "markdown",
   "id": "0025f1a4-3d5b-472c-8b9a-24ce936353bd",
   "metadata": {},
   "source": [
    "- 1.Sample some training data and run it through the network to make predictions.\n",
    "- 2.Measure the loss between the predictions and the true values.\n",
    "- 3.Finally, adjust the weights in a direction that makes the loss smaller."
   ]
  },
  {
   "cell_type": "code",
   "execution_count": null,
   "id": "678a82e5-9349-4e1b-b847-ca31b2737c44",
   "metadata": {},
   "outputs": [],
   "source": [
    "from tensorflow import keras\n",
    "from tensorflow.keras import layers\n",
    "\n",
    "model = keras.Sequential([\n",
    "    layers.Dense(512, activation='relu', input_shape=[11]),\n",
    "    layers.Dense(512, activation='relu'),\n",
    "    layers.Dense(512, activation='relu'),\n",
    "    layers.Dense(1),\n",
    "])\n",
    "\n",
    "model.compile(\n",
    "    optimizer='adam',\n",
    "    loss='mae',\n",
    ")\n",
    "\n",
    "history = model.fit(\n",
    "    X_train, y_train,\n",
    "    validation_data=(X_valid, y_valid),\n",
    "    batch_size=256,\n",
    "    epochs=10,\n",
    ")"
   ]
  }
 ],
 "metadata": {
  "kernelspec": {
   "display_name": "Python 3 (ipykernel)",
   "language": "python",
   "name": "python3"
  },
  "language_info": {
   "codemirror_mode": {
    "name": "ipython",
    "version": 3
   },
   "file_extension": ".py",
   "mimetype": "text/x-python",
   "name": "python",
   "nbconvert_exporter": "python",
   "pygments_lexer": "ipython3",
   "version": "3.11.8"
  }
 },
 "nbformat": 4,
 "nbformat_minor": 5
}
