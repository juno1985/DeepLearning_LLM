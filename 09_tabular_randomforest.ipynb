{
 "cells": [
  {
   "cell_type": "code",
   "execution_count": 1,
   "id": "eefc501a-b678-4d11-b941-9846cb9e155a",
   "metadata": {},
   "outputs": [],
   "source": [
    "from fastbook import *\n",
    "from pandas.api.types import is_string_dtype, is_numeric_dtype, is_categorical_dtype\n",
    "from fastai.tabular.all import *\n",
    "from sklearn.ensemble import RandomForestRegressor\n",
    "from sklearn.tree import DecisionTreeRegressor\n",
    "from dtreeviz.trees import *\n",
    "from IPython.display import Image, display_svg, SVG\n",
    "\n",
    "pd.options.display.max_rows = 20\n",
    "pd.options.display.max_columns = 8"
   ]
  },
  {
   "cell_type": "code",
   "execution_count": 2,
   "id": "53454bbd-3464-4610-957f-03f1b2c11f3d",
   "metadata": {},
   "outputs": [
    {
     "data": {
      "text/plain": [
       "Path('C:/Users/Administrator/.fastai/archive/bluebook-for-bulldozers')"
      ]
     },
     "execution_count": 2,
     "metadata": {},
     "output_type": "execute_result"
    }
   ],
   "source": [
    "comp = 'bluebook-for-bulldozers'\n",
    "path = URLs.path(comp)\n",
    "path"
   ]
  },
  {
   "cell_type": "code",
   "execution_count": 3,
   "id": "602f9a0c-3644-4cdb-ba37-4d0352848414",
   "metadata": {},
   "outputs": [],
   "source": [
    "df=pd.read_csv(path/'TrainAndValid.csv',low_memory=False)"
   ]
  },
  {
   "cell_type": "code",
   "execution_count": 4,
   "id": "0b82f852-d154-4f85-9c2a-72f75128a9a8",
   "metadata": {},
   "outputs": [
    {
     "data": {
      "text/plain": [
       "Index(['SalesID', 'SalePrice', 'MachineID', 'ModelID', 'datasource',\n",
       "       'auctioneerID', 'YearMade', 'MachineHoursCurrentMeter', 'UsageBand',\n",
       "       'saledate', 'fiModelDesc', 'fiBaseModel', 'fiSecondaryDesc',\n",
       "       'fiModelSeries', 'fiModelDescriptor', 'ProductSize',\n",
       "       'fiProductClassDesc', 'state', 'ProductGroup', 'ProductGroupDesc',\n",
       "       'Drive_System', 'Enclosure', 'Forks', 'Pad_Type', 'Ride_Control',\n",
       "       'Stick', 'Transmission', 'Turbocharged', 'Blade_Extension',\n",
       "       'Blade_Width', 'Enclosure_Type', 'Engine_Horsepower', 'Hydraulics',\n",
       "       'Pushblock', 'Ripper', 'Scarifier', 'Tip_Control', 'Tire_Size',\n",
       "       'Coupler', 'Coupler_System', 'Grouser_Tracks', 'Hydraulics_Flow',\n",
       "       'Track_Type', 'Undercarriage_Pad_Width', 'Stick_Length', 'Thumb',\n",
       "       'Pattern_Changer', 'Grouser_Type', 'Backhoe_Mounting', 'Blade_Type',\n",
       "       'Travel_Controls', 'Differential_Type', 'Steering_Controls'],\n",
       "      dtype='object')"
      ]
     },
     "execution_count": 4,
     "metadata": {},
     "output_type": "execute_result"
    }
   ],
   "source": [
    "df.columns"
   ]
  },
  {
   "cell_type": "code",
   "execution_count": 5,
   "id": "083e956d-fd65-4bbe-a2ee-d34ad291dd69",
   "metadata": {},
   "outputs": [
    {
     "data": {
      "text/html": [
       "<div>\n",
       "<style scoped>\n",
       "    .dataframe tbody tr th:only-of-type {\n",
       "        vertical-align: middle;\n",
       "    }\n",
       "\n",
       "    .dataframe tbody tr th {\n",
       "        vertical-align: top;\n",
       "    }\n",
       "\n",
       "    .dataframe thead th {\n",
       "        text-align: right;\n",
       "    }\n",
       "</style>\n",
       "<table border=\"1\" class=\"dataframe\">\n",
       "  <thead>\n",
       "    <tr style=\"text-align: right;\">\n",
       "      <th></th>\n",
       "      <th>SalesID</th>\n",
       "      <th>SalePrice</th>\n",
       "      <th>MachineID</th>\n",
       "      <th>ModelID</th>\n",
       "      <th>...</th>\n",
       "      <th>Blade_Type</th>\n",
       "      <th>Travel_Controls</th>\n",
       "      <th>Differential_Type</th>\n",
       "      <th>Steering_Controls</th>\n",
       "    </tr>\n",
       "  </thead>\n",
       "  <tbody>\n",
       "    <tr>\n",
       "      <th>0</th>\n",
       "      <td>1139246</td>\n",
       "      <td>66000.0</td>\n",
       "      <td>999089</td>\n",
       "      <td>3157</td>\n",
       "      <td>...</td>\n",
       "      <td>NaN</td>\n",
       "      <td>NaN</td>\n",
       "      <td>Standard</td>\n",
       "      <td>Conventional</td>\n",
       "    </tr>\n",
       "    <tr>\n",
       "      <th>1</th>\n",
       "      <td>1139248</td>\n",
       "      <td>57000.0</td>\n",
       "      <td>117657</td>\n",
       "      <td>77</td>\n",
       "      <td>...</td>\n",
       "      <td>NaN</td>\n",
       "      <td>NaN</td>\n",
       "      <td>Standard</td>\n",
       "      <td>Conventional</td>\n",
       "    </tr>\n",
       "    <tr>\n",
       "      <th>2</th>\n",
       "      <td>1139249</td>\n",
       "      <td>10000.0</td>\n",
       "      <td>434808</td>\n",
       "      <td>7009</td>\n",
       "      <td>...</td>\n",
       "      <td>NaN</td>\n",
       "      <td>NaN</td>\n",
       "      <td>NaN</td>\n",
       "      <td>NaN</td>\n",
       "    </tr>\n",
       "    <tr>\n",
       "      <th>3</th>\n",
       "      <td>1139251</td>\n",
       "      <td>38500.0</td>\n",
       "      <td>1026470</td>\n",
       "      <td>332</td>\n",
       "      <td>...</td>\n",
       "      <td>NaN</td>\n",
       "      <td>NaN</td>\n",
       "      <td>NaN</td>\n",
       "      <td>NaN</td>\n",
       "    </tr>\n",
       "    <tr>\n",
       "      <th>4</th>\n",
       "      <td>1139253</td>\n",
       "      <td>11000.0</td>\n",
       "      <td>1057373</td>\n",
       "      <td>17311</td>\n",
       "      <td>...</td>\n",
       "      <td>NaN</td>\n",
       "      <td>NaN</td>\n",
       "      <td>NaN</td>\n",
       "      <td>NaN</td>\n",
       "    </tr>\n",
       "    <tr>\n",
       "      <th>...</th>\n",
       "      <td>...</td>\n",
       "      <td>...</td>\n",
       "      <td>...</td>\n",
       "      <td>...</td>\n",
       "      <td>...</td>\n",
       "      <td>...</td>\n",
       "      <td>...</td>\n",
       "      <td>...</td>\n",
       "      <td>...</td>\n",
       "    </tr>\n",
       "    <tr>\n",
       "      <th>412693</th>\n",
       "      <td>6333344</td>\n",
       "      <td>10000.0</td>\n",
       "      <td>1919201</td>\n",
       "      <td>21435</td>\n",
       "      <td>...</td>\n",
       "      <td>NaN</td>\n",
       "      <td>NaN</td>\n",
       "      <td>NaN</td>\n",
       "      <td>NaN</td>\n",
       "    </tr>\n",
       "    <tr>\n",
       "      <th>412694</th>\n",
       "      <td>6333345</td>\n",
       "      <td>10500.0</td>\n",
       "      <td>1882122</td>\n",
       "      <td>21436</td>\n",
       "      <td>...</td>\n",
       "      <td>NaN</td>\n",
       "      <td>NaN</td>\n",
       "      <td>NaN</td>\n",
       "      <td>NaN</td>\n",
       "    </tr>\n",
       "    <tr>\n",
       "      <th>412695</th>\n",
       "      <td>6333347</td>\n",
       "      <td>12500.0</td>\n",
       "      <td>1944213</td>\n",
       "      <td>21435</td>\n",
       "      <td>...</td>\n",
       "      <td>NaN</td>\n",
       "      <td>NaN</td>\n",
       "      <td>NaN</td>\n",
       "      <td>NaN</td>\n",
       "    </tr>\n",
       "    <tr>\n",
       "      <th>412696</th>\n",
       "      <td>6333348</td>\n",
       "      <td>10000.0</td>\n",
       "      <td>1794518</td>\n",
       "      <td>21435</td>\n",
       "      <td>...</td>\n",
       "      <td>NaN</td>\n",
       "      <td>NaN</td>\n",
       "      <td>NaN</td>\n",
       "      <td>NaN</td>\n",
       "    </tr>\n",
       "    <tr>\n",
       "      <th>412697</th>\n",
       "      <td>6333349</td>\n",
       "      <td>13000.0</td>\n",
       "      <td>1944743</td>\n",
       "      <td>21436</td>\n",
       "      <td>...</td>\n",
       "      <td>NaN</td>\n",
       "      <td>NaN</td>\n",
       "      <td>NaN</td>\n",
       "      <td>NaN</td>\n",
       "    </tr>\n",
       "  </tbody>\n",
       "</table>\n",
       "<p>412698 rows × 53 columns</p>\n",
       "</div>"
      ],
      "text/plain": [
       "        SalesID  SalePrice  MachineID  ModelID  ...  Blade_Type  \\\n",
       "0       1139246    66000.0     999089     3157  ...         NaN   \n",
       "1       1139248    57000.0     117657       77  ...         NaN   \n",
       "2       1139249    10000.0     434808     7009  ...         NaN   \n",
       "3       1139251    38500.0    1026470      332  ...         NaN   \n",
       "4       1139253    11000.0    1057373    17311  ...         NaN   \n",
       "...         ...        ...        ...      ...  ...         ...   \n",
       "412693  6333344    10000.0    1919201    21435  ...         NaN   \n",
       "412694  6333345    10500.0    1882122    21436  ...         NaN   \n",
       "412695  6333347    12500.0    1944213    21435  ...         NaN   \n",
       "412696  6333348    10000.0    1794518    21435  ...         NaN   \n",
       "412697  6333349    13000.0    1944743    21436  ...         NaN   \n",
       "\n",
       "        Travel_Controls  Differential_Type  Steering_Controls  \n",
       "0                   NaN           Standard       Conventional  \n",
       "1                   NaN           Standard       Conventional  \n",
       "2                   NaN                NaN                NaN  \n",
       "3                   NaN                NaN                NaN  \n",
       "4                   NaN                NaN                NaN  \n",
       "...                 ...                ...                ...  \n",
       "412693              NaN                NaN                NaN  \n",
       "412694              NaN                NaN                NaN  \n",
       "412695              NaN                NaN                NaN  \n",
       "412696              NaN                NaN                NaN  \n",
       "412697              NaN                NaN                NaN  \n",
       "\n",
       "[412698 rows x 53 columns]"
      ]
     },
     "execution_count": 5,
     "metadata": {},
     "output_type": "execute_result"
    }
   ],
   "source": [
    "df"
   ]
  },
  {
   "cell_type": "code",
   "execution_count": 6,
   "id": "b90d93f7-f5a2-4a1a-a0f1-4415037eafad",
   "metadata": {},
   "outputs": [
    {
     "data": {
      "text/plain": [
       "array([nan, 'Medium', 'Small', 'Large / Medium', 'Mini', 'Large', 'Compact'], dtype=object)"
      ]
     },
     "execution_count": 6,
     "metadata": {},
     "output_type": "execute_result"
    }
   ],
   "source": [
    "df['ProductSize'].unique()"
   ]
  },
  {
   "cell_type": "markdown",
   "id": "819da615-df96-464a-af9c-f437da05d52f",
   "metadata": {},
   "source": [
    "[handle ordinal columns]We can tell Pandas about a suitable ordering of these levels like so:"
   ]
  },
  {
   "cell_type": "code",
   "execution_count": 7,
   "id": "0975a624-c9cf-418c-88cd-28fad81d618e",
   "metadata": {},
   "outputs": [],
   "source": [
    "sizes = 'Large','Large / Medium','Medium','Small','Mini','Compact'"
   ]
  },
  {
   "cell_type": "markdown",
   "id": "a4bf7ed4-615a-4fd5-a597-7d309fe30cdf",
   "metadata": {},
   "source": [
    "Convert to \"Categorical\" Pandas datatype to be treated as a categorical variable"
   ]
  },
  {
   "cell_type": "code",
   "execution_count": 9,
   "id": "3d944da9-f695-4515-8075-eab1eb71d3f7",
   "metadata": {},
   "outputs": [],
   "source": [
    "df['ProductSize'] = df['ProductSize'].astype('category')"
   ]
  },
  {
   "cell_type": "code",
   "execution_count": 11,
   "id": "be99f854-39b3-4a0e-be5e-83e100da41aa",
   "metadata": {},
   "outputs": [
    {
     "data": {
      "text/plain": [
       "0            NaN\n",
       "1         Medium\n",
       "2            NaN\n",
       "3          Small\n",
       "4            NaN\n",
       "           ...  \n",
       "412693      Mini\n",
       "412694      Mini\n",
       "412695      Mini\n",
       "412696      Mini\n",
       "412697      Mini\n",
       "Name: ProductSize, Length: 412698, dtype: category\n",
       "Categories (6, object): ['Large' < 'Large / Medium' < 'Medium' < 'Small' < 'Mini' < 'Compact']"
      ]
     },
     "execution_count": 11,
     "metadata": {},
     "output_type": "execute_result"
    }
   ],
   "source": [
    "df['ProductSize']=df['ProductSize'].astype('category')\n",
    "#We can tell Pandas about a suitable ordering of these levels like so:\n",
    "df['ProductSize'].cat.set_categories(sizes, ordered=True)"
   ]
  },
  {
   "cell_type": "code",
   "execution_count": null,
   "id": "e4ac6f03-ec66-4f6c-b6f9-3edf9a47c8e0",
   "metadata": {},
   "outputs": [],
   "source": []
  },
  {
   "cell_type": "code",
   "execution_count": null,
   "id": "fcaff16a-1fe3-4f05-9a88-21dda4c64d31",
   "metadata": {},
   "outputs": [],
   "source": []
  }
 ],
 "metadata": {
  "kernelspec": {
   "display_name": "Python 3 (ipykernel)",
   "language": "python",
   "name": "python3"
  },
  "language_info": {
   "codemirror_mode": {
    "name": "ipython",
    "version": 3
   },
   "file_extension": ".py",
   "mimetype": "text/x-python",
   "name": "python",
   "nbconvert_exporter": "python",
   "pygments_lexer": "ipython3",
   "version": "3.11.8"
  }
 },
 "nbformat": 4,
 "nbformat_minor": 5
}
