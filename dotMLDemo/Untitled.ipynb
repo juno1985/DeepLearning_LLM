{
 "cells": [
  {
   "cell_type": "code",
   "execution_count": 1,
   "id": "1c98287c-a79b-4099-b063-8fc3059effde",
   "metadata": {},
   "outputs": [
    {
     "name": "stdout",
     "output_type": "stream",
     "text": [
      "Collecting dotml\n",
      "  Using cached dotml-0.1.9-py3-none-any.whl.metadata (9.1 kB)\n",
      "Requirement already satisfied: pyyaml in c:\\users\\administrator\\appdata\\local\\programs\\python\\python311\\lib\\site-packages (from dotml) (6.0.1)\n",
      "Requirement already satisfied: typer in c:\\users\\administrator\\appdata\\local\\programs\\python\\python311\\lib\\site-packages (from dotml) (0.9.0)\n",
      "Requirement already satisfied: json5 in c:\\users\\administrator\\appdata\\local\\programs\\python\\python311\\lib\\site-packages (from dotml) (0.9.17)\n",
      "Requirement already satisfied: click<9.0.0,>=7.1.1 in c:\\users\\administrator\\appdata\\local\\programs\\python\\python311\\lib\\site-packages (from typer->dotml) (8.1.7)\n",
      "Requirement already satisfied: typing-extensions>=3.7.4.3 in c:\\users\\administrator\\appdata\\local\\programs\\python\\python311\\lib\\site-packages (from typer->dotml) (4.10.0)\n",
      "Requirement already satisfied: colorama in c:\\users\\administrator\\appdata\\local\\programs\\python\\python311\\lib\\site-packages (from click<9.0.0,>=7.1.1->typer->dotml) (0.4.6)\n",
      "Using cached dotml-0.1.9-py3-none-any.whl (15 kB)\n",
      "Installing collected packages: dotml\n",
      "Successfully installed dotml-0.1.9\n"
     ]
    },
    {
     "name": "stderr",
     "output_type": "stream",
     "text": [
      "\n",
      "[notice] A new release of pip is available: 24.0 -> 24.2\n",
      "[notice] To update, run: C:\\Users\\Administrator\\AppData\\Local\\Programs\\Python\\Python311\\python.exe -m pip install --upgrade pip\n"
     ]
    }
   ],
   "source": [
    "!pip install dotml"
   ]
  },
  {
   "cell_type": "code",
   "execution_count": null,
   "id": "23641a50-8817-49f2-81a2-5f5dbe5db685",
   "metadata": {},
   "outputs": [
    {
     "data": {
      "text/plain": [
       "['C:\\\\Users\\\\Administrator\\\\AppData\\\\Local\\\\Programs\\\\Python\\\\Python311\\\\python311.zip',\n",
       " 'C:\\\\Users\\\\Administrator\\\\AppData\\\\Local\\\\Programs\\\\Python\\\\Python311\\\\DLLs',\n",
       " 'C:\\\\Users\\\\Administrator\\\\AppData\\\\Local\\\\Programs\\\\Python\\\\Python311\\\\Lib',\n",
       " 'C:\\\\Users\\\\Administrator\\\\AppData\\\\Local\\\\Programs\\\\Python\\\\Python311',\n",
       " '',\n",
       " 'C:\\\\Users\\\\Administrator\\\\AppData\\\\Local\\\\Programs\\\\Python\\\\Python311\\\\Lib\\\\site-packages',\n",
       " 'C:\\\\Users\\\\Administrator\\\\AppData\\\\Local\\\\Programs\\\\Python\\\\Python311\\\\Lib\\\\site-packages\\\\win32',\n",
       " 'C:\\\\Users\\\\Administrator\\\\AppData\\\\Local\\\\Programs\\\\Python\\\\Python311\\\\Lib\\\\site-packages\\\\win32\\\\lib',\n",
       " 'C:\\\\Users\\\\Administrator\\\\AppData\\\\Local\\\\Programs\\\\Python\\\\Python311\\\\Lib\\\\site-packages\\\\Pythonwin',\n",
       " 'F:\\\\fabric\\\\dotMLDemo',\n",
       " 'F:\\\\fabric\\\\dotMLDemo/dotML/dotml',\n",
       " 'F:\\\\fabric\\\\dotMLDemo\\\\dotML\\\\dotml']"
      ]
     },
     "execution_count": 17,
     "metadata": {},
     "output_type": "execute_result"
    }
   ],
   "source": [
    "import sys, os\n",
    "cur_dir=os.getcwd()\n",
    "sys.path.append(cur_dir+'\\\\dotML\\\\dotml')\n",
    "sys.path"
   ]
  },
  {
   "cell_type": "code",
   "execution_count": null,
   "id": "eae03c6d",
   "metadata": {},
   "outputs": [],
   "source": []
  },
  {
   "cell_type": "code",
   "execution_count": null,
   "id": "a390fb92",
   "metadata": {},
   "outputs": [],
   "source": []
  },
  {
   "cell_type": "code",
   "execution_count": 19,
   "id": "f502c5e3-25d5-42ea-a583-5a51ee11e1c6",
   "metadata": {},
   "outputs": [],
   "source": [
    "from compiler import generate_sql_query\n",
    "from cube import load_cubes"
   ]
  },
  {
   "cell_type": "code",
   "execution_count": 28,
   "id": "efc015c8-e93b-442c-9db3-820b317d84a7",
   "metadata": {},
   "outputs": [],
   "source": [
    "cubes = load_cubes(\"data_cube.yml\")"
   ]
  },
  {
   "cell_type": "code",
   "execution_count": 36,
   "id": "d993da83-510f-4150-9f9e-717ce74c62bf",
   "metadata": {},
   "outputs": [],
   "source": [
    "query = {\n",
    "    \"fields\": [\"orders.booking_date_month\", \"orders.average_order_value_rolling_30_days\"],\n",
    "    \"filters\": [\"${orders.country_id} = '67'\"],\n",
    "    \"sorts\": [\"orders.booking_date_month\"],\n",
    "    \"limit\": 100\n",
    "}\n",
    "sql_query = generate_sql_query(cubes, query)"
   ]
  },
  {
   "cell_type": "code",
   "execution_count": 37,
   "id": "4e36915b-de2b-4c51-841b-e560edaf6577",
   "metadata": {},
   "outputs": [
    {
     "name": "stdout",
     "output_type": "stream",
     "text": [
      "with orders_base as (\n",
      "select date_trunc(month,orders.booking_date) as booking_date_month\n",
      "from my_db.prod.orders as orders\n",
      "where (orders.country_id = '67') and orders.booking_date >= '2019-01-01' and orders.status = 'confirmed'\n",
      "group by 1\n",
      "order by 1 asc\n",
      ")\n",
      "select *, sum(revenue) over (order by booking_date_day rows between 30 preceding and current row) as average_order_value_rolling_30_days\n",
      "from orders_base\n",
      "limit 100\n"
     ]
    }
   ],
   "source": [
    "print(sql_query)"
   ]
  },
  {
   "cell_type": "code",
   "execution_count": null,
   "id": "71127359-f0ad-4d06-b873-ae6e5e427823",
   "metadata": {},
   "outputs": [],
   "source": []
  }
 ],
 "metadata": {
  "kernelspec": {
   "display_name": "Python 3 (ipykernel)",
   "language": "python",
   "name": "python3"
  },
  "language_info": {
   "codemirror_mode": {
    "name": "ipython",
    "version": 3
   },
   "file_extension": ".py",
   "mimetype": "text/x-python",
   "name": "python",
   "nbconvert_exporter": "python",
   "pygments_lexer": "ipython3",
   "version": "3.11.8"
  }
 },
 "nbformat": 4,
 "nbformat_minor": 5
}
